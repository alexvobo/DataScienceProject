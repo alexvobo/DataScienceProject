{
 "cells": [
  {
   "cell_type": "code",
   "execution_count": 10,
   "metadata": {},
   "outputs": [],
   "source": [
    "import pandas as pd\n",
    "import os\n",
    "import glob"
   ]
  },
  {
   "cell_type": "code",
   "execution_count": 12,
   "metadata": {},
   "outputs": [
    {
     "data": {
      "text/plain": [
       "168"
      ]
     },
     "execution_count": 12,
     "metadata": {},
     "output_type": "execute_result"
    }
   ],
   "source": [
    "path = r'C:\\Users\\Alex\\Documents\\Data Science\\Project\\data\\data'\n",
    "all_files = glob.glob(os.path.join(path, \"*.csv\"))"
   ]
  },
  {
   "cell_type": "code",
   "execution_count": 4,
   "metadata": {},
   "outputs": [
    {
     "data": {
      "text/html": [
       "<div>\n",
       "<style scoped>\n",
       "    .dataframe tbody tr th:only-of-type {\n",
       "        vertical-align: middle;\n",
       "    }\n",
       "\n",
       "    .dataframe tbody tr th {\n",
       "        vertical-align: top;\n",
       "    }\n",
       "\n",
       "    .dataframe thead th {\n",
       "        text-align: right;\n",
       "    }\n",
       "</style>\n",
       "<table border=\"1\" class=\"dataframe\">\n",
       "  <thead>\n",
       "    <tr style=\"text-align: right;\">\n",
       "      <th></th>\n",
       "      <th>Unnamed: 1</th>\n",
       "      <th>Unnamed: 2</th>\n",
       "      <th>Note that these figures are generated using a formula that protects against any artificial inflation of chart positions.</th>\n",
       "      <th>Unnamed: 4</th>\n",
       "    </tr>\n",
       "  </thead>\n",
       "  <tbody>\n",
       "    <tr>\n",
       "      <th>196</th>\n",
       "      <td>B.S. (feat. H.E.R.)</td>\n",
       "      <td>Jhené Aiko</td>\n",
       "      <td>4557817</td>\n",
       "      <td>https://open.spotify.com/track/63wx9vdskaXbYxy...</td>\n",
       "    </tr>\n",
       "    <tr>\n",
       "      <th>197</th>\n",
       "      <td>Soliá</td>\n",
       "      <td>Bad Bunny</td>\n",
       "      <td>4516243</td>\n",
       "      <td>https://open.spotify.com/track/7sOfmPd18RWp3Fo...</td>\n",
       "    </tr>\n",
       "    <tr>\n",
       "      <th>198</th>\n",
       "      <td>Girls Like You (feat. Cardi B)</td>\n",
       "      <td>Maroon 5</td>\n",
       "      <td>4515388</td>\n",
       "      <td>https://open.spotify.com/track/7fa9MBXhVfQ8P8D...</td>\n",
       "    </tr>\n",
       "    <tr>\n",
       "      <th>199</th>\n",
       "      <td>changes</td>\n",
       "      <td>XXXTENTACION</td>\n",
       "      <td>4507185</td>\n",
       "      <td>https://open.spotify.com/track/7AFASza1mXqntmG...</td>\n",
       "    </tr>\n",
       "    <tr>\n",
       "      <th>200</th>\n",
       "      <td>Está Cabrón Ser Yo</td>\n",
       "      <td>Bad Bunny</td>\n",
       "      <td>4438261</td>\n",
       "      <td>https://open.spotify.com/track/4saHEjXw7O1NXJO...</td>\n",
       "    </tr>\n",
       "  </tbody>\n",
       "</table>\n",
       "</div>"
      ],
      "text/plain": [
       "                         Unnamed: 1    Unnamed: 2  \\\n",
       "196             B.S. (feat. H.E.R.)    Jhené Aiko   \n",
       "197                           Soliá     Bad Bunny   \n",
       "198  Girls Like You (feat. Cardi B)      Maroon 5   \n",
       "199                         changes  XXXTENTACION   \n",
       "200              Está Cabrón Ser Yo     Bad Bunny   \n",
       "\n",
       "    Note that these figures are generated using a formula that protects against any artificial inflation of chart positions.  \\\n",
       "196                                            4557817                                                                         \n",
       "197                                            4516243                                                                         \n",
       "198                                            4515388                                                                         \n",
       "199                                            4507185                                                                         \n",
       "200                                            4438261                                                                         \n",
       "\n",
       "                                            Unnamed: 4  \n",
       "196  https://open.spotify.com/track/63wx9vdskaXbYxy...  \n",
       "197  https://open.spotify.com/track/7sOfmPd18RWp3Fo...  \n",
       "198  https://open.spotify.com/track/7fa9MBXhVfQ8P8D...  \n",
       "199  https://open.spotify.com/track/7AFASza1mXqntmG...  \n",
       "200  https://open.spotify.com/track/4saHEjXw7O1NXJO...  "
      ]
     },
     "execution_count": 4,
     "metadata": {},
     "output_type": "execute_result"
    }
   ],
   "source": [
    "for i in range(len(all_files)):\n",
    "    with open(\"week\"+str(i)+\".csv\",'r') as f:\n",
    "        with open(\"updated_test.csv\",'w') as f1:\n",
    "            next(f) # skip header line\n",
    "            for line in f:\n",
    "                f1.write(line)\n",
    "\n",
    "\n",
    "lyrics = pd.read_csv(\"data\\data\\week0.csv\", index_col=0)\n",
    "lyrics.tail()"
   ]
  },
  {
   "cell_type": "code",
   "execution_count": null,
   "metadata": {},
   "outputs": [],
   "source": []
  }
 ],
 "metadata": {
  "kernelspec": {
   "display_name": "Python 3",
   "language": "python",
   "name": "python3"
  },
  "language_info": {
   "codemirror_mode": {
    "name": "ipython",
    "version": 3
   },
   "file_extension": ".py",
   "mimetype": "text/x-python",
   "name": "python",
   "nbconvert_exporter": "python",
   "pygments_lexer": "ipython3",
   "version": "3.7.3"
  }
 },
 "nbformat": 4,
 "nbformat_minor": 2
}
